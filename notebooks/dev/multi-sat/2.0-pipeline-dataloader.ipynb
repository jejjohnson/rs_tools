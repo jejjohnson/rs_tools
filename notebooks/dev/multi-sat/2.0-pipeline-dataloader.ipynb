{
 "cells": [
  {
   "cell_type": "code",
   "execution_count": 1,
   "metadata": {},
   "outputs": [
    {
     "name": "stderr",
     "output_type": "stream",
     "text": [
      "/opt/anaconda3/envs/iti-env/lib/python3.11/site-packages/tqdm/auto.py:21: TqdmWarning: IProgress not found. Please update jupyter and ipywidgets. See https://ipywidgets.readthedocs.io/en/stable/user_install.html\n",
      "  from .autonotebook import tqdm as notebook_tqdm\n"
     ]
    }
   ],
   "source": [
    "from typing import Optional, List, Union, Tuple\n",
    "from omegaconf import DictConfig\n",
    "from datetime import datetime\n",
    "import pandas as pd\n",
    "from rs_tools._src.datamodule.utils import split_dataset"
   ]
  },
  {
   "cell_type": "code",
   "execution_count": 2,
   "metadata": {},
   "outputs": [],
   "source": [
    "list_of_dates = []\n",
    "list_of_files = []\n",
    "for year in [2019, 2020, 2021]:\n",
    "    for month in range(1, 13):\n",
    "        for day in range(1, 32):\n",
    "            try:\n",
    "                date = datetime(year, month, day, hour=0, minute=0, second=0).strftime('%Y%m%d%H%M%S')\n",
    "                filename = f'{date}_test.nc'\n",
    "                list_of_dates.append(date)\n",
    "                list_of_files.append(filename)\n",
    "            except ValueError:\n",
    "                continue\n"
   ]
  },
  {
   "cell_type": "code",
   "execution_count": 3,
   "metadata": {},
   "outputs": [],
   "source": [
    "split_dict = {\n",
    "    \"train\": {\"years\": None, \"months\": [1, 3, 5, 7, 9, 11], \"days\": None},\n",
    "    \"val\": {\"years\": None, \"months\": [2, 4, 6, 8, 10, 12], \"days\": None},\n",
    "}"
   ]
  },
  {
   "cell_type": "code",
   "execution_count": 5,
   "metadata": {},
   "outputs": [
    {
     "name": "stdout",
     "output_type": "stream",
     "text": [
      "{'years': [2019, 2020, 2021], 'months': [1, 3, 5, 7, 9, 11], 'days': [1, 2, 3, 4, 5, 6, 7, 8, 9, 10, 11, 12, 13, 14, 15, 16, 17, 18, 19, 20, 21, 22, 23, 24, 25, 26, 27, 28, 29, 30, 31]}\n",
      "{'years': [2019, 2020, 2021], 'months': [2, 4, 6, 8, 10, 12], 'days': [1, 2, 3, 4, 5, 6, 7, 8, 9, 10, 11, 12, 13, 14, 15, 16, 17, 18, 19, 20, 21, 22, 23, 24, 25, 26, 27, 28, 29, 30, 31]}\n"
     ]
    }
   ],
   "source": [
    "train_files, val_files = split_dataset(list_of_files, split_dict)"
   ]
  },
  {
   "cell_type": "code",
   "execution_count": 7,
   "metadata": {},
   "outputs": [
    {
     "data": {
      "text/plain": [
       "(552, 544, 1096)"
      ]
     },
     "execution_count": 7,
     "metadata": {},
     "output_type": "execute_result"
    }
   ],
   "source": [
    "len(train_files), len(val_files), len(list_of_files)"
   ]
  }
 ],
 "metadata": {
  "kernelspec": {
   "display_name": "iti-env",
   "language": "python",
   "name": "python3"
  },
  "language_info": {
   "codemirror_mode": {
    "name": "ipython",
    "version": 3
   },
   "file_extension": ".py",
   "mimetype": "text/x-python",
   "name": "python",
   "nbconvert_exporter": "python",
   "pygments_lexer": "ipython3",
   "version": "3.11.8"
  }
 },
 "nbformat": 4,
 "nbformat_minor": 2
}
